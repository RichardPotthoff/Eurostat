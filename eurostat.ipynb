{
 "cells": [
  {
   "cell_type": "code",
   "execution_count": 1,
   "metadata": {},
   "outputs": [],
   "source": [
    "geo='NL'\n",
    "age_ranges=[ 'Y_LT10', 'Y10-19', 'Y20-29', 'Y30-39', 'Y40-49', 'Y50-59', 'Y60-69', 'Y70-79', 'Y80-89', 'Y_GE90', 'TOTAL']\n",
    "sex='T'\n",
    "\n",
    "base_year=2020\n",
    "years=range(base_year-8,base_year+1)\n"
   ]
  },
  {
   "cell_type": "code",
   "execution_count": 2,
   "metadata": {},
   "outputs": [],
   "source": [
    "import os\n",
    "import csv\n",
    "import datetime\n",
    "import sys\n",
    "import gzip\n",
    "import certifi\n",
    "import urllib3\n",
    "import io\n",
    "from matplotlib import pyplot as plt\n",
    "\n",
    "http=urllib3.PoolManager( cert_reqs='CERT_REQUIRED', ca_certs=certifi.where()) \n",
    "\n",
    "def open_eurostat_file(filename,localpath=os.getcwd()+'/Data/',remotepath='https://ec.europa.eu/eurostat/estat-navtree-portlet-prod/BulkDownloadListing?file=data/'):\n",
    "  if not os.path.exists(localpath+filename+'.gz'):\n",
    "    r=http.request('GET',remotepath+filename+'.gz')\n",
    "    s=r.data\n",
    "    with open(localpath+filename+'.gz','wb') as f:\n",
    "      f.write(s)\n",
    "  else:\n",
    "    with open(localpath+filename+'.gz','rb') as f:\n",
    "      s=f.read()\n",
    "  return io.StringIO(gzip.decompress(s).decode('utf8'))\n",
    "\n",
    "def extract_eurostat_data(file='demo_r_mwk_10.tsv', filter={'geo':'NL','sex':'T'}, fields=('age','year','week','value')):\n",
    "  with open_eurostat_file(file) as f:\n",
    "    Table=csv.DictReader(f,delimiter='\\t')\n",
    "    rowparamkeys=(Table.fieldnames[0].split('\\\\')[0]).split(',')\n",
    "    for rec in Table:\n",
    "      fields_={key:value for key,value in zip(rowparamkeys,rec[Table.fieldnames[0]].split(','))}\n",
    "      if sum([fields_[key]!=value for key,value in filter.items()])==0:\n",
    "        for key,value in rec.items():\n",
    "          if key!=Table.fieldnames[0]:\n",
    "            if 'W' in key:\n",
    "              year,week=key.split('W')\n",
    "            else:\n",
    "              year=key\n",
    "              week=0\n",
    "            fields_['year']=int(year)\n",
    "            fields_['week']=int(week)\n",
    "            val=value.split()[0]\n",
    "            fields_['value']=int(val) if val.isnumeric() else 0\n",
    "            yield(fields_[key] for key in fields)\n"
   ]
  },
  {
   "cell_type": "code",
   "execution_count": 3,
   "metadata": {},
   "outputs": [],
   "source": [
    "db_={}\n",
    "for age,year,week,val in extract_eurostat_data('demo_r_mwk_10.tsv',filter={'geo':geo,'sex':sex}, fields=('age','year','week','value')):\n",
    "  if not age in db_:\n",
    "    db_[age]=dict([])\n",
    "  if not year in db_[age]:\n",
    "    db_[age][year]=[0]*54\n",
    "  if week<54:\n",
    "   db_[age][year][week]=val\n",
    "  else:\n",
    "    if week!=99:\n",
    "      print(week)\n",
    "      \n",
    "db={age:{year:sum(weeks) for year,weeks in years.items()} for age,years in db_.items()}#sum over weeks\n"
   ]
  },
  {
   "cell_type": "code",
   "execution_count": 4,
   "metadata": {},
   "outputs": [],
   "source": [
    "db1={}\n",
    "for age,year,val in extract_eurostat_data('demo_pjan.tsv',filter={'geo':geo,'sex':sex}, fields=('age','year','value')):\n",
    "  if age=='Y_LT1':\n",
    "    age='Y0'\n",
    "  if age=='Y_OPEN':\n",
    "    age='Y_GE90'\n",
    "  if age[:1]=='Y':\n",
    "    if (age[1:]).isnumeric():\n",
    "      age=int(age[1:])\n",
    "      if age<10:\n",
    "        age='Y_LT10'\n",
    "      elif age>=90:\n",
    "        age='Y_GE90'\n",
    "      else:\n",
    "        age=f'Y{age//10*10:2d}-{age//10*10+9:2d}'\n",
    "  if not age in db1:\n",
    "    db1[age]=dict([])\n",
    "  if not year in db1[age]:\n",
    "    db1[age][year]=0\n",
    "  db1[age][year]+=val\n"
   ]
  },
  {
   "cell_type": "code",
   "execution_count": 5,
   "metadata": {
    "scrolled": true
   },
   "outputs": [
    {
     "name": "stdout",
     "output_type": "stream",
     "text": [
      "age-range|years:   2012   2013   2014   2015   2016   2017   2018   2019   2020\n",
      "Y_LT10            0.036  0.025  0.031  0.023  0.025  0.026  0.024  0.022  0.020 \n",
      "Y10-19            0.023  0.019  0.019  0.019  0.019  0.022  0.022  0.024  0.024 \n",
      "Y20-29            0.065  0.060  0.059  0.052  0.055  0.057  0.053  0.062  0.061 \n",
      "Y30-39            0.088  0.091  0.085  0.078  0.077  0.077  0.075  0.081  0.078 \n",
      "Y40-49            0.189  0.183  0.162  0.164  0.161  0.153  0.152  0.146  0.164 \n",
      "Y50-59            0.465  0.450  0.432  0.422  0.407  0.391  0.393  0.366  0.375 \n",
      "Y60-69            1.107  1.120  1.079  1.075  1.018  0.993  0.964  0.916  0.934 \n",
      "Y70-79            2.632  2.540  2.608  2.586  2.621  2.566  2.481  2.418  2.384 \n",
      "Y80-89            8.257  7.931  7.978  8.084  8.000  7.744  7.736  7.403  7.427 \n",
      "Y_GE90           25.216 24.447 24.753 24.687 24.385 23.398 24.015 23.168 23.292 \n",
      "TOTAL             0.956  0.950  0.963  0.977  0.981  0.974  0.988  0.974  1.003 \n",
      "age-adj 2020      1.124  1.090  1.091  1.089  1.077  1.045  1.037  0.999  1.003 \n"
     ]
    }
   ],
   "source": [
    "db2={}\n",
    "for age in age_ranges:\n",
    "  db2[age]={}\n",
    "  for year in years:\n",
    "    x=db[age][year]/db1[age][year-1]\n",
    "    db2[age][year]=x   \n",
    "\n",
    "db2['age-adj 2020']={}\n",
    "for year in years:\n",
    "  s=0\n",
    "  for age in age_ranges[:-1]:\n",
    "    s+=db[age][year]/db1[age][year-1]*db1[age][base_year-1]\n",
    "  x=s/db1[\"TOTAL\"][base_year-1]\n",
    "  db2['age-adj 2020'][year]=x\n",
    "    \n",
    "print(f'{\"age-range|years:\":16s}{\"\".join([f\" {y:6d}\" for y in years])}')      \n",
    "for age,row in db2.items():\n",
    "  print(f'{age:16s}',end=' ')   \n",
    "  print(''.join([f'{db2[age][year]*100.0:6.3f} ' for year in years]))\n"
   ]
  },
  {
   "cell_type": "code",
   "execution_count": 6,
   "metadata": {},
   "outputs": [
    {
     "data": {
      "image/png": "[encoded data removed]",
      "text/plain": [
       "<Figure size 432x288 with 1 Axes>"
      ]
     },
     "metadata": {
      "needs_background": "light"
     },
     "output_type": "display_data"
    }
   ],
   "source": [
    "%matplotlib inline\n",
    "plt.ylim(0,0.012)\n",
    "plt.ylabel('Total Age-Adjusted Mortality')\n",
    "plt.xlabel('Year')\n",
    "plt.title(f'Mortality {geo}')\n",
    "plt.plot(years,db2['age-adj 2020'].values());"
   ]
  },
  {
   "cell_type": "code",
   "execution_count": null,
   "metadata": {},
   "outputs": [],
   "source": []
  }
 ],
 "metadata": {
  "kernelspec": {
   "display_name": "Python 3",
   "language": "python",
   "name": "python3"
  },
  "language_info": {
   "codemirror_mode": {
    "name": "ipython",
    "version": 3
   },
   "file_extension": ".py",
   "mimetype": "text/x-python",
   "name": "python",
   "nbconvert_exporter": "python",
   "pygments_lexer": "ipython3",
   "version": "3.7.1"
  },
  "toc": {
   "base_numbering": 1,
   "nav_menu": {},
   "number_sections": true,
   "sideBar": true,
   "skip_h1_title": false,
   "title_cell": "Table of Contents",
   "title_sidebar": "Contents",
   "toc_cell": false,
   "toc_position": {},
   "toc_section_display": true,
   "toc_window_display": false
  }
 },
 "nbformat": 4,
 "nbformat_minor": 2
}
