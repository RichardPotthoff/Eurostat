{
 "cells": [
  {
   "cell_type": "code",
   "execution_count": 1,
   "metadata": {},
   "outputs": [],
   "source": [
    "geo='NL'\n",
    "age_ranges=[ 'Y_LT10', 'Y10-19', 'Y20-29', 'Y30-39', 'Y40-49', 'Y50-59', 'Y60-69', 'Y70-79', 'Y80-89', 'Y_GE90', 'TOTAL']\n",
    "sex='T'\n",
    "\n",
    "base_year=2020\n",
    "years=range(base_year-8,base_year+1)\n"
   ]
  },
  {
   "cell_type": "code",
   "execution_count": 2,
   "metadata": {},
   "outputs": [],
   "source": [
    "import os\n",
    "import csv\n",
    "import datetime\n",
    "import sys\n",
    "import gzip\n",
    "import certifi\n",
    "import urllib3\n",
    "import io\n",
    "from matplotlib import pyplot as plt\n",
    "\n",
    "http=urllib3.PoolManager( cert_reqs='CERT_REQUIRED', ca_certs=certifi.where()) \n",
    "\n",
    "def open_eurostat_file(filename,localpath=os.getcwd()+'/Data/',remotepath='https://ec.europa.eu/eurostat/estat-navtree-portlet-prod/BulkDownloadListing?file=data/'):\n",
    "  if not os.path.exists(localpath+filename+'.gz'):\n",
    "    r=http.request('GET',remotepath+filename+'.gz')\n",
    "    s=r.data\n",
    "    with open(localpath+filename+'.gz','wb') as f:\n",
    "      f.write(s)\n",
    "  else:\n",
    "    with open(localpath+filename+'.gz','rb') as f:\n",
    "      s=f.read()\n",
    "  return io.StringIO(gzip.decompress(s).decode('utf8'))\n",
    "\n",
    "def extract_eurostat_data(file='demo_r_mwk_10.tsv', filter={'geo':'NL','sex':'T'}, fields=('age','year','week','value')):\n",
    "  with open_eurostat_file(file) as f:\n",
    "    Table=csv.DictReader(f,delimiter='\\t')\n",
    "    rowparamkeys=(Table.fieldnames[0].split('\\\\')[0]).split(',')\n",
    "    for rec in Table:\n",
    "      fields_={key:value for key,value in zip(rowparamkeys,rec[Table.fieldnames[0]].split(','))}\n",
    "      if sum([fields_[key]!=value for key,value in filter.items()])==0:\n",
    "        for key,value in rec.items():\n",
    "          if key!=Table.fieldnames[0]:\n",
    "            if 'W' in key:\n",
    "              year,week=key.split('W')\n",
    "            else:\n",
    "              year=key\n",
    "              week=0\n",
    "            fields_['year']=int(year)\n",
    "            fields_['week']=int(week)\n",
    "            val=value.split()[0]\n",
    "            fields_['value']=int(val) if val.isnumeric() else 0\n",
    "            yield(fields_[key] for key in fields)\n"
   ]
  },
  {
   "cell_type": "code",
   "execution_count": 3,
   "metadata": {},
   "outputs": [],
   "source": [
    "db_={}\n",
    "for age,year,week,val in extract_eurostat_data('demo_r_mwk_10.tsv',filter={'geo':geo,'sex':sex}, fields=('age','year','week','value')):\n",
    "  if not age in db_:\n",
    "    db_[age]=dict([])\n",
    "  if not year in db_[age]:\n",
    "    db_[age][year]=[0]*54\n",
    "  if week<54:\n",
    "   db_[age][year][week]=val\n",
    "  else:\n",
    "    if week!=99:\n",
    "      print(week)\n",
    "      \n",
    "db={age:{year:sum(weeks) for year,weeks in years.items()} for age,years in db_.items()}#sum over weeks\n"
   ]
  },
  {
   "cell_type": "code",
   "execution_count": 4,
   "metadata": {},
   "outputs": [],
   "source": [
    "db1={}\n",
    "for age,year,val in extract_eurostat_data('demo_pjan.tsv',filter={'geo':geo,'sex':sex}, fields=('age','year','value')):\n",
    "  if age=='Y_LT1':\n",
    "    age='Y0'\n",
    "  if age=='Y_OPEN':\n",
    "    age='Y_GE90'\n",
    "  if age[:1]=='Y':\n",
    "    if (age[1:]).isnumeric():\n",
    "      age=int(age[1:])\n",
    "      if age<10:\n",
    "        age='Y_LT10'\n",
    "      elif age>=90:\n",
    "        age='Y_GE90'\n",
    "      else:\n",
    "        age=f'Y{age//10*10:2d}-{age//10*10+9:2d}'\n",
    "  if not age in db1:\n",
    "    db1[age]=dict([])\n",
    "  if not year in db1[age]:\n",
    "    db1[age][year]=0\n",
    "  db1[age][year]+=val\n"
   ]
  },
  {
   "cell_type": "code",
   "execution_count": 5,
   "metadata": {
    "scrolled": true
   },
   "outputs": [
    {
     "name": "stdout",
     "output_type": "stream",
     "text": [
      "age-range|years:   2012   2013   2014   2015   2016   2017   2018   2019   2020\n",
      "Y_LT10            0.045  0.044  0.044  0.040  0.042  0.043  0.041  0.043  0.044 \n",
      "Y10-19            0.014  0.014  0.015  0.013  0.012  0.015  0.013  0.013  0.013 \n",
      "Y20-29            0.031  0.032  0.030  0.031  0.032  0.031  0.031  0.031  0.030 \n",
      "Y30-39            0.051  0.048  0.051  0.052  0.052  0.051  0.051  0.051  0.056 \n",
      "Y40-49            0.134  0.125  0.123  0.122  0.121  0.120  0.117  0.112  0.122 \n",
      "Y50-59            0.393  0.385  0.365  0.371  0.360  0.340  0.336  0.326  0.331 \n",
      "Y60-69            1.007  0.994  0.951  1.003  0.945  0.886  0.899  0.873  0.940 \n",
      "Y70-79            2.645  2.595  2.526  2.636  2.581  2.588  2.528  2.407  2.651 \n",
      "Y80-89            8.543  8.383  7.964  8.552  8.226  8.200  8.170  7.957  8.927 \n",
      "Y_GE90           28.186 27.210 26.231 27.798 26.611 26.964 27.086 26.322 29.379 \n",
      "TOTAL             0.841  0.842  0.826  0.890  0.878  0.882  0.896  0.882  0.990 \n",
      "age-adj 2020      0.985  0.963  0.925  0.976  0.941  0.933  0.928  0.898  0.990 \n"
     ]
    }
   ],
   "source": [
    "db2={}\n",
    "for age in age_ranges:\n",
    "  db2[age]={}\n",
    "  for year in years:\n",
    "    x=db[age][year]/db1[age][year-1]\n",
    "    db2[age][year]=x   \n",
    "\n",
    "db2['age-adj 2020']={}\n",
    "for year in years:\n",
    "  s=0\n",
    "  for age in age_ranges[:-1]:\n",
    "    s+=db[age][year]/db1[age][year-1]*db1[age][base_year-1]\n",
    "  x=s/db1[\"TOTAL\"][base_year-1]\n",
    "  db2['age-adj 2020'][year]=x\n",
    "    \n",
    "print(f'{\"age-range|years:\":16s}{\"\".join([f\" {y:6d}\" for y in years])}')      \n",
    "for age,row in db2.items():\n",
    "  print(f'{age:16s}',end=' ')   \n",
    "  print(''.join([f'{db2[age][year]*100.0:6.3f} ' for year in years]))\n"
   ]
  },
  {
   "cell_type": "code",
   "execution_count": 6,
   "metadata": {},
   "outputs": [
    {
     "data": {
      "image/png": "[encoded data removed]",
      "text/plain": [
       "<Figure size 432x288 with 1 Axes>"
      ]
     },
     "metadata": {
      "needs_background": "light"
     },
     "output_type": "display_data"
    }
   ],
   "source": [
    "%matplotlib inline\n",
    "plt.ylim(0,0.012)\n",
    "plt.ylabel('Total Age-Adjusted Mortality')\n",
    "plt.xlabel('Year')\n",
    "plt.title(f'Mortality {geo}')\n",
    "plt.plot(years,db2['age-adj 2020'].values());"
   ]
  },
  {
   "cell_type": "code",
   "execution_count": null,
   "metadata": {},
   "outputs": [],
   "source": []
  }
 ],
 "metadata": {
  "kernelspec": {
   "display_name": "Python 3",
   "language": "python",
   "name": "python3"
  },
  "language_info": {
   "codemirror_mode": {
    "name": "ipython",
    "version": 3
   },
   "file_extension": ".py",
   "mimetype": "text/x-python",
   "name": "python",
   "nbconvert_exporter": "python",
   "pygments_lexer": "ipython3",
   "version": "3.7.1"
  },
  "toc": {
   "base_numbering": 1,
   "nav_menu": {},
   "number_sections": true,
   "sideBar": true,
   "skip_h1_title": false,
   "title_cell": "Table of Contents",
   "title_sidebar": "Contents",
   "toc_cell": false,
   "toc_position": {},
   "toc_section_display": true,
   "toc_window_display": false
  }
 },
 "nbformat": 4,
 "nbformat_minor": 2
}
